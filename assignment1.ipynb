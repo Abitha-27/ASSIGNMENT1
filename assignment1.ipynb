{
 "cells": [
  {
   "cell_type": "markdown",
   "id": "27967754",
   "metadata": {},
   "source": [
    "ASSIGNMENT 1"
   ]
  },
  {
   "cell_type": "markdown",
   "id": "c9e20dde",
   "metadata": {},
   "source": [
    "TO PRINT THE FOLLOWING"
   ]
  },
  {
   "cell_type": "code",
   "execution_count": 2,
   "id": "c13d42ce",
   "metadata": {
    "scrolled": true
   },
   "outputs": [
    {
     "name": "stdout",
     "output_type": "stream",
     "text": [
      "Enter the number of rows: 5\n",
      "* \n",
      "* * \n",
      "* * * \n",
      "* * * * \n",
      "* * * * * \n"
     ]
    }
   ],
   "source": [
    "def show_stars(rows):\n",
    "   for i in range(rows):\n",
    "      for j in range(i+1):\n",
    "         # printing stars\n",
    "         print(\"*\",end=\" \")\n",
    "      print(\"\\r\")\n",
    " \n",
    "# take inputs\n",
    "rows= int(input('Enter the number of rows: '))\n",
    "\n",
    "# calling function\n",
    "show_stars(rows)"
   ]
  },
  {
   "cell_type": "code",
   "execution_count": 56,
   "id": "f1736f9f",
   "metadata": {},
   "outputs": [
    {
     "name": "stdout",
     "output_type": "stream",
     "text": [
      "The original string is :  Artificial Intelligence And Data Science\n",
      "The string after removal of i'th character :  Artifiial Intelligence And Data Science\n"
     ]
    }
   ],
   "source": [
    "test_str =\"Artificial Intelligence And Data Science\"\n",
    "  \n",
    "# Printing original string \n",
    "print (\"The original string is : \" , test_str)\n",
    "  \n",
    "# Removing char at pos 7\n",
    "# using for loop\n",
    "new_str = \"\"\n",
    "  \n",
    "for i in range(len(test_str)):\n",
    "    if i != 6:\n",
    "        new_str = new_str + test_str[i]\n",
    "  \n",
    "# Printing string after removal  \n",
    "print (\"The string after removal of i'th character : \" ,new_str)"
   ]
  },
  {
   "cell_type": "code",
   "execution_count": 4,
   "id": "728d86bb",
   "metadata": {},
   "outputs": [
    {
     "name": "stdout",
     "output_type": "stream",
     "text": [
      "Enter lower range limit:10\n",
      "Enter upper range limit:99\n",
      "10\n",
      "15\n",
      "20\n",
      "25\n",
      "30\n",
      "35\n",
      "40\n",
      "45\n",
      "50\n",
      "55\n",
      "60\n",
      "65\n",
      "70\n",
      "75\n",
      "80\n",
      "85\n",
      "90\n",
      "95\n"
     ]
    }
   ],
   "source": [
    "lower = int(input(\"Enter lower range limit:\"))\n",
    "upper = int(input(\"Enter upper range limit:\"))\n",
    "for i in range(lower, upper+1):\n",
    "   if (i%5==0):\n",
    "      print(i)"
   ]
  },
  {
   "cell_type": "code",
   "execution_count": 5,
   "id": "0bdeb33c",
   "metadata": {},
   "outputs": [
    {
     "name": "stdout",
     "output_type": "stream",
     "text": [
      "1\n"
     ]
    }
   ],
   "source": [
    "string = 'Hi! everyone welcome to python'\n",
    "sub_string = 'Hi'\n",
    "results = 0\n",
    "sub_len = len(sub_string)\n",
    "for i in range(len(string)):\n",
    "    if string[i:i+sub_len] == sub_string:\n",
    "        results += 1\n",
    "print (results)\n"
   ]
  },
  {
   "cell_type": "code",
   "execution_count": 6,
   "id": "05b60808",
   "metadata": {},
   "outputs": [
    {
     "name": "stdout",
     "output_type": "stream",
     "text": [
      "Enter the number of rows: 5\n",
      "\n",
      "1 \n",
      "2 2 \n",
      "3 3 3 \n",
      "4 4 4 4 \n",
      "5 5 5 5 5 \n"
     ]
    }
   ],
   "source": [
    "def numbers(rows):\n",
    "   for i in range(rows+1):\n",
    "      for j in range(i):\n",
    "         # printing numbers\n",
    "         print(i,end=\" \")\n",
    "      print(\"\\r\")\n",
    " \n",
    "# take inputs\n",
    "rows= int(input('Enter the number of rows: '))\n",
    "\n",
    "# calling function\n",
    "numbers(rows)"
   ]
  },
  {
   "cell_type": "markdown",
   "id": "3f86b3fd",
   "metadata": {},
   "source": [
    "LISTS IN PYTHON"
   ]
  },
  {
   "cell_type": "code",
   "execution_count": 55,
   "id": "b82de1bf",
   "metadata": {},
   "outputs": [
    {
     "name": "stdout",
     "output_type": "stream",
     "text": [
      "Initial List :  [21, 7, 33, 57, 23, 87]\n",
      "List after Swapping :  [87, 7, 33, 57, 23, 21]\n"
     ]
    }
   ],
   "source": [
    "mic = [21, 7, 33, 57, 23, 87]\n",
    "print(\"Initial List : \", mic)\n",
    "\n",
    "# finding the length of list\n",
    "length = len(mic)\n",
    "\n",
    "# Swapping first and last element\n",
    "temp = mic[0]\n",
    "mic[0] = mic[length - 1]\n",
    "mic[length - 1] = temp\n",
    "\n",
    "print(\"List after Swapping : \", mic)"
   ]
  },
  {
   "cell_type": "markdown",
   "id": "9b582e09",
   "metadata": {},
   "source": [
    "program to interchange first and last elements in a list"
   ]
  },
  {
   "cell_type": "code",
   "execution_count": 54,
   "id": "f0af248c",
   "metadata": {},
   "outputs": [
    {
     "name": "stdout",
     "output_type": "stream",
     "text": [
      "Initial List :  [21, 7, 33, 57, 23, 87]\n",
      "List after Swapping :  [87, 7, 33, 57, 23, 21]\n"
     ]
    }
   ],
   "source": [
    "mywork = [21, 7, 33, 57, 23, 87]\n",
    "print(\"Initial List : \" , mywork)\n",
    "\n",
    "# finding the length of list\n",
    "length = len(mywork)\n",
    "\n",
    "# Swapping first and last element\n",
    "temp = mywork[0]\n",
    "mywork[0] = mywork[length - 1]\n",
    "mywork[length - 1] = temp\n",
    "\n",
    "print(\"List after Swapping : \", mywork)\n"
   ]
  },
  {
   "cell_type": "markdown",
   "id": "717458b8",
   "metadata": {},
   "source": [
    "swaping the elements in the list"
   ]
  },
  {
   "cell_type": "code",
   "execution_count": 53,
   "id": "99e70ef0",
   "metadata": {},
   "outputs": [
    {
     "name": "stdout",
     "output_type": "stream",
     "text": [
      "[12, 34, 58, 78, 100]\n",
      "Swapped list:  [12, 34, 100, 78, 58]\n"
     ]
    }
   ],
   "source": [
    "def swaping(sl,pos1,pos2):\n",
    "    n = len(sl)     \n",
    "    # Swapping \n",
    "    temp = sl[pos1]\n",
    "    sl[pos1] = sl[pos2]\n",
    "    sl[pos2] = temp\n",
    "    return sl      \n",
    "\n",
    "M= [12,34,58,78,100]\n",
    "pos1= 3\n",
    "pos2= 5\n",
    "\n",
    "print(M)\n",
    "print(\"Swapped list: \",swaping(M,pos1-1,pos2-1))\n"
   ]
  },
  {
   "cell_type": "markdown",
   "id": "c7877f1d",
   "metadata": {},
   "source": [
    "to find length of list"
   ]
  },
  {
   "cell_type": "code",
   "execution_count": 15,
   "id": "ad8640ec",
   "metadata": {},
   "outputs": [
    {
     "name": "stdout",
     "output_type": "stream",
     "text": [
      "Number of items in the list1 =  5\n",
      "Number of items in the list2 =  4\n"
     ]
    }
   ],
   "source": [
    "list1 = [\"Hello\", \"everyone\", 1, 2, 3]\n",
    "list2=[\"mango\",\"gauva\",'##',8]\n",
    "print (\"Number of items in the list1 = \", len(list1))\n",
    "print (\"Number of items in the list2 = \", len(list2))"
   ]
  },
  {
   "cell_type": "markdown",
   "id": "9dd08b39",
   "metadata": {},
   "source": [
    "maximum of two numbers"
   ]
  },
  {
   "cell_type": "code",
   "execution_count": 50,
   "id": "bc64b6e3",
   "metadata": {},
   "outputs": [
    {
     "name": "stdout",
     "output_type": "stream",
     "text": [
      "Enter the first number: 27\n",
      "Enter the second number: 26\n",
      "27 is greater\n"
     ]
    }
   ],
   "source": [
    "num1 = int(input(\"Enter the first number: \"))\n",
    "num2 = int(input(\"Enter the second number: \"))\n",
    "\n",
    "# printing the maximum value\n",
    "if(num1 > num2):\n",
    "  print(num1, \"is greater\")\n",
    "elif(num1 < num2):\n",
    "    print(num2, \"is greater\")\n",
    "else:\n",
    "    print(\"Both are equal\")"
   ]
  },
  {
   "cell_type": "markdown",
   "id": "33bdf8de",
   "metadata": {},
   "source": [
    "minimum of two numbers"
   ]
  },
  {
   "cell_type": "code",
   "execution_count": 49,
   "id": "17d39a72",
   "metadata": {},
   "outputs": [
    {
     "name": "stdout",
     "output_type": "stream",
     "text": [
      "Enter the first number: 7\n",
      "Enter the second number: 5\n",
      "5 is lowest\n"
     ]
    }
   ],
   "source": [
    "A = int(input(\"Enter the first number: \"))\n",
    "B = int(input(\"Enter the second number: \"))\n",
    "\n",
    "# printing the minimum value\n",
    "if(A < B):\n",
    "  print(A, \"is lowest\")\n",
    "elif(B < A):\n",
    "    print(B, \"is lowest\")\n",
    "else:\n",
    "    print(\"Both are equal\")\n"
   ]
  },
  {
   "cell_type": "markdown",
   "id": "bddb5313",
   "metadata": {},
   "source": [
    "TUPLES IN PYTHON"
   ]
  },
  {
   "cell_type": "markdown",
   "id": "4fa69fbf",
   "metadata": {},
   "source": [
    "size of tuples"
   ]
  },
  {
   "cell_type": "code",
   "execution_count": 18,
   "id": "01ff9b0f",
   "metadata": {},
   "outputs": [
    {
     "name": "stdout",
     "output_type": "stream",
     "text": [
      "Size of Tuple1:  96 bytes\n",
      "Size of Tuple2:  88 bytes\n",
      "Size of Tuple3:  72 bytes\n"
     ]
    }
   ],
   "source": [
    "\n",
    "import sys\n",
    "  \n",
    "# sample Tuple\n",
    "fly= (\"hlo\", 1, \"welcome\", 2, \"to\", \"python\",3)\n",
    "Jass = (\"mango\", \"is\", \"my\", \"favourite\", \"fruit\", \"banana\")\n",
    "Ross = ((1, \"Lion\"), ( 2, \"Tiger\"), (3, \"Fox\"), (4, \"Wolf\"))\n",
    "  \n",
    "# print the sizes of sample Tuples\n",
    "print(\"Size of Tuple1: \" , str(sys.getsizeof(fly)) , \"bytes\")\n",
    "print(\"Size of Tuple2: \" , str(sys.getsizeof(Jass)) , \"bytes\")\n",
    "print(\"Size of Tuple3: \" , str(sys.getsizeof(Ross)) , \"bytes\")"
   ]
  },
  {
   "cell_type": "markdown",
   "id": "20f22900",
   "metadata": {},
   "source": [
    "Maximum and minimum k element in tuple"
   ]
  },
  {
   "cell_type": "code",
   "execution_count": 48,
   "id": "47124137",
   "metadata": {},
   "outputs": [
    {
     "name": "stdout",
     "output_type": "stream",
     "text": [
      "The tuple is : \n",
      "(98, 99, 0, 9, 10, 8)\n",
      "The value of K has been initialized to \n",
      "2\n",
      "The result is : \n",
      "(0, 8, 98, 99)\n"
     ]
    }
   ],
   "source": [
    "sample_tuple = (98, 99, 0, 9, 10, 8)\n",
    "\n",
    "print(\"The tuple is : \")\n",
    "print(sample_tuple)\n",
    "\n",
    "L = 2\n",
    "print(\"The value of K has been initialized to \")\n",
    "print(L)\n",
    "my_result = []\n",
    "sample_typle = list(sample_tuple)\n",
    "temp = sorted(sample_tuple)\n",
    "\n",
    "for idx, val in enumerate(temp):\n",
    "   if idx < L or idx >= len(temp) - L:\n",
    "      my_result.append(val)\n",
    "my_result = tuple(my_result)\n",
    "\n",
    "print(\"The result is : \" )\n",
    "print(my_result)"
   ]
  },
  {
   "cell_type": "markdown",
   "id": "146ede4d",
   "metadata": {},
   "source": [
    "sum of tuple elements"
   ]
  },
  {
   "cell_type": "code",
   "execution_count": 47,
   "id": "6c297cdf",
   "metadata": {},
   "outputs": [
    {
     "name": "stdout",
     "output_type": "stream",
     "text": [
      "The original tuple is :  (7, 8, 9, 1, 99, 7)\n",
      "The sum of tuple elements are :  131\n"
     ]
    }
   ],
   "source": [
    "\n",
    "VALUE = (7, 8, 9, 1, 99, 7) \n",
    "  \n",
    "# printing original tuple\n",
    "print(\"The original tuple is : \" , str(VALUE)) \n",
    "  \n",
    "# finding sum of all tuple elements\n",
    "ValSum = sum(list(VALUE))\n",
    "  \n",
    "# Printing sum of tuple elements  \n",
    "print(\"The sum of tuple elements are : \" , str(ValSum))"
   ]
  },
  {
   "cell_type": "code",
   "execution_count": 21,
   "id": "a97865d8",
   "metadata": {},
   "outputs": [
    {
     "name": "stdout",
     "output_type": "stream",
     "text": [
      "12\n"
     ]
    }
   ],
   "source": [
    "# create a tuple\n",
    "t = (1, 2, 5, 4)\n",
    "# sum of tuple elements\n",
    "print(sum(t))"
   ]
  },
  {
   "cell_type": "markdown",
   "id": "c94eadae",
   "metadata": {},
   "source": [
    "STRINGS IN PYTHON"
   ]
  },
  {
   "cell_type": "markdown",
   "id": "b1c073b6",
   "metadata": {},
   "source": [
    "program to check whether the string is Symmetrical or Palindrom"
   ]
  },
  {
   "cell_type": "code",
   "execution_count": 22,
   "id": "bbc3dcb5",
   "metadata": {},
   "outputs": [
    {
     "name": "stdout",
     "output_type": "stream",
     "text": [
      "Enter the string: madam\n",
      "The entered string is palindrome\n",
      "The entered string is not symmetrical\n"
     ]
    }
   ],
   "source": [
    "# function for palindrome\n",
    "def palin(string): \n",
    "\n",
    "  # declare and initialize with the starting and ending indexes\n",
    "  st = 0\n",
    "  end = len(string)-1\n",
    "  f = 0\n",
    "\n",
    "  while(st<end): \n",
    "\n",
    "    if (string[st]== string[end]): \n",
    "      \n",
    "      st += 1\n",
    "      end -= 1\n",
    "      \n",
    "    else: \n",
    "      f = 1\n",
    "      break;     \n",
    "  if f == 0: \n",
    "    print(\"The entered string is palindrome\") \n",
    "  else: \n",
    "    print(\"The entered string is not palindrome\") \n",
    "    \n",
    "# symm function to check string symmetrical or not\n",
    "def symm(string): \n",
    "  \n",
    "  l = len(string) \n",
    "  flag = 0\n",
    "  \n",
    "  # to check length of string even or odd \n",
    "  # to calculate middle value accordingly\n",
    "  if l%2 == 0: \n",
    "    mid = l//2 # for even length\n",
    "  else: \n",
    "    mid = l//2 + 1 # for odd length\n",
    "    \n",
    "  s1 = 0  # starting for first portion of string\n",
    "  s2 = mid # starting for rest portion of string after middle value\n",
    "  \n",
    "  while(s1 < mid and s2 < l): \n",
    "    \n",
    "    if (string[s1] == string[s2]): # comparing from start of both portions \n",
    "                                  # of given string\n",
    "      s1 = s1 + 1\n",
    "      s2 = s2 + 1\n",
    "    else: \n",
    "      flag = 1\n",
    "      break\n",
    "  \n",
    "\n",
    "  if flag == 0: \n",
    "    print(\"The entered string is symmetrical\") \n",
    "  else: \n",
    "    print(\"The entered string is not symmetrical\") \n",
    "    \n",
    "\n",
    "string = input(\"Enter the string: \")\n",
    "palin(string) \n",
    "symm(string)"
   ]
  },
  {
   "cell_type": "markdown",
   "id": "ef6b146a",
   "metadata": {},
   "source": [
    "Reversing the words in a given string"
   ]
  },
  {
   "cell_type": "code",
   "execution_count": 46,
   "id": "a5c38101",
   "metadata": {},
   "outputs": [
    {
     "name": "stdout",
     "output_type": "stream",
     "text": [
      "Enter any string: WELCOME TO HOME\n",
      "HOME TO WELCOME\n"
     ]
    }
   ],
   "source": [
    "x = input(\"Enter any string: \")\n",
    "#take input from user\n",
    "a = x.split()\n",
    "#use split method to split at whitespaces\n",
    "a.reverse()\n",
    "#reverse all the elements of the string \n",
    "print(' '.join(a))\n",
    "#concatenate them into a string"
   ]
  },
  {
   "cell_type": "markdown",
   "id": "ba2d99ec",
   "metadata": {},
   "source": [
    "Remove i’th character from string"
   ]
  },
  {
   "cell_type": "code",
   "execution_count": 45,
   "id": "7bab7ab0",
   "metadata": {},
   "outputs": [
    {
     "name": "stdout",
     "output_type": "stream",
     "text": [
      "medcal\n"
     ]
    }
   ],
   "source": [
    "def remove_char(s, i):\n",
    "\n",
    "    for j in range(len(s)):\n",
    "        if j==i:\n",
    "            s=s.replace(s[i],\"\",1)\n",
    "    return s\n",
    "\n",
    "string = \"medical\"\n",
    "# Remove i-th index element\n",
    "i = 4\n",
    "print(remove_char(string,i-1))"
   ]
  },
  {
   "cell_type": "markdown",
   "id": "63f0e0fc",
   "metadata": {},
   "source": [
    "SETS IN PYTHON"
   ]
  },
  {
   "cell_type": "markdown",
   "id": "f23ca13f",
   "metadata": {},
   "source": [
    "size of sets"
   ]
  },
  {
   "cell_type": "code",
   "execution_count": 44,
   "id": "3ecc16c4",
   "metadata": {},
   "outputs": [
    {
     "name": "stdout",
     "output_type": "stream",
     "text": [
      "Size of Set1:  472 bytes\n",
      "Size of Set2:  472 bytes\n",
      "Size of Set3:  216 bytes\n"
     ]
    }
   ],
   "source": [
    "import sys\n",
    "  \n",
    "# sample Sets\n",
    "Set1 = {\"A\", 1, \"B\", 2, \"C\", 3}\n",
    "Set2 = {\"mango\", \"cherry\", \"apple\", \"jackfruit\", \"papaya\", \"kosaimasse\"}\n",
    "Set3 = {(1, \"python\"), ( 2, \"c\"), (3, \"c++\")}\n",
    "  \n",
    "# print the sizes of sample Sets\n",
    "print(\"Size of Set1: \" , str(sys.getsizeof(Set1)) , \"bytes\")\n",
    "print(\"Size of Set2: \" , str(sys.getsizeof(Set2)) , \"bytes\")\n",
    "print(\"Size of Set3: \" , str(sys.getsizeof(Set3)) , \"bytes\")"
   ]
  },
  {
   "cell_type": "markdown",
   "id": "a7f4df25",
   "metadata": {},
   "source": [
    "Iterate over a set"
   ]
  },
  {
   "cell_type": "code",
   "execution_count": 41,
   "id": "94215d67",
   "metadata": {},
   "outputs": [
    {
     "name": "stdout",
     "output_type": "stream",
     "text": [
      "0 1 2 99 11 \n",
      "\n",
      "Creating a set using string:\n",
      "e i r p n t "
     ]
    }
   ],
   "source": [
    "#Create a set \n",
    "number_set = set([0, 1, 2, 0, 11, 99])\n",
    "for n in number_set:\n",
    "  print(n, end=' ')\n",
    "print(\"\\n\\nCreating a set using string:\")\n",
    "char_set = set(\"interpreter\")  \n",
    "# Iterating using for loop\n",
    "for val in char_set:\n",
    "    print(val, end=' ')"
   ]
  },
  {
   "cell_type": "markdown",
   "id": "d957aae4",
   "metadata": {},
   "source": [
    "DICTIONARY IN PYTHON"
   ]
  },
  {
   "cell_type": "markdown",
   "id": "7aa7126f",
   "metadata": {},
   "source": [
    "Sort Python Dictionaries by Key or Value"
   ]
  },
  {
   "cell_type": "code",
   "execution_count": 40,
   "id": "5f131979",
   "metadata": {},
   "outputs": [
    {
     "name": "stdout",
     "output_type": "stream",
     "text": [
      "Sorted keys [1, 2, 6, 7, 8, 9]\n",
      "Sorted Values [(1, 'peter'), (2, 'sandi'), (6, 'Muna'), (7, 'tesla'), (8, 'thomson'), (9, 'Michi')]\n"
     ]
    }
   ],
   "source": [
    "dict = {6:'Muna' ,2:'sandi' ,1:'peter' ,9:'Michi' ,7:'tesla' ,8:'thomson' }  \n",
    " \n",
    "key_sort= sorted(dict.keys())\n",
    "print(\"Sorted keys\",key_sort)  \n",
    "  \n",
    "value_sort= sorted(dict.items())\n",
    "print(\"Sorted Values\",value_sort)  "
   ]
  },
  {
   "cell_type": "markdown",
   "id": "410e270f",
   "metadata": {},
   "source": [
    "Python dictionary with keys having multiple inputs"
   ]
  },
  {
   "cell_type": "code",
   "execution_count": 28,
   "id": "adabb30d",
   "metadata": {},
   "outputs": [
    {
     "name": "stdout",
     "output_type": "stream",
     "text": [
      "The dictionary is :\n",
      "{(15, 26, 38): 3, (5, 4, 11): -2}\n"
     ]
    }
   ],
   "source": [
    "my_dict = {}\n",
    "\n",
    "a, b, c = 15, 26, 38\n",
    "my_dict[a, b, c] = a + b - c\n",
    "\n",
    "a, b, c = 5, 4, 11\n",
    "my_dict[a, b, c] = a + b - c\n",
    "\n",
    "print(\"The dictionary is :\")\n",
    "print(my_dict)"
   ]
  },
  {
   "cell_type": "raw",
   "id": "f9140f0d",
   "metadata": {},
   "source": [
    "MATRICES IN PYTHON"
   ]
  },
  {
   "cell_type": "markdown",
   "id": "9e655f1c",
   "metadata": {},
   "source": [
    "Python – Assigning Subsequent Rows to Matrix first row elements"
   ]
  },
  {
   "cell_type": "code",
   "execution_count": 29,
   "id": "e71be81c",
   "metadata": {},
   "outputs": [
    {
     "name": "stdout",
     "output_type": "stream",
     "text": [
      "The original list :  [[5, 0, 99], [2, 6, 9], [7, 4, 2], [0, 3, 9]]\n",
      "The Assigned Matrix :  {5: [2, 6, 9], 0: [7, 4, 2], 99: [0, 3, 9]}\n"
     ]
    }
   ],
   "source": [
    "trial_list = [[5, 0, 99], [2, 6, 9], [7, 4, 2], [0, 3, 9]]\n",
    "  \n",
    "# printing original list\n",
    "print(\"The original list : \" , str(trial_list))\n",
    "  \n",
    "# pairing each 1st col with next rows in Matrix\n",
    "rep = {trial_list[0][ele] :  trial_list[ele + 1] for ele in range(len(trial_list) - 1)}\n",
    "  \n",
    "# printing result \n",
    "print(\"The Assigned Matrix : \" , str(rep))"
   ]
  },
  {
   "cell_type": "markdown",
   "id": "6d459cfd",
   "metadata": {},
   "source": [
    "Adding Matrices in Python"
   ]
  },
  {
   "cell_type": "code",
   "execution_count": 39,
   "id": "a49f08dc",
   "metadata": {},
   "outputs": [
    {
     "name": "stdout",
     "output_type": "stream",
     "text": [
      "Result: \n",
      "[[  8  14 197]\n",
      " [  4  84   8]\n",
      " [  5  10  17]]\n"
     ]
    }
   ],
   "source": [
    "import numpy\n",
    "\n",
    "# Matrix 1\n",
    "x=[ [1, 8, 99], [3, 84, 5], [0, 7, 8] ]\n",
    "\n",
    "# Matrix 2\n",
    "y=[ [7, 6, 98], [1, 0, 3], [5, 3, 9] ]\n",
    "\n",
    "print(\"Result: \")\n",
    "print(numpy.add(x,y))"
   ]
  },
  {
   "cell_type": "raw",
   "id": "5cb71af9",
   "metadata": {},
   "source": [
    "Subtracting matrices in python"
   ]
  },
  {
   "cell_type": "code",
   "execution_count": 37,
   "id": "b61fce5e",
   "metadata": {},
   "outputs": [
    {
     "name": "stdout",
     "output_type": "stream",
     "text": [
      "Result: \n",
      "[[-6  2  1]\n",
      " [ 3 84  2]\n",
      " [-1  4 -1]]\n"
     ]
    }
   ],
   "source": [
    "import numpy\n",
    "\n",
    "# Matrix 1\n",
    "A=[ [1, 8, 99], [4, 84, 5], [0, 7, 8] ]\n",
    "\n",
    "# Matrix 2\n",
    "B=[ [7, 6, 98], [1, 0, 3], [1, 3, 9] ]\n",
    "\n",
    "print(\"Result: \")\n",
    "print(numpy.subtract(A,B))"
   ]
  },
  {
   "cell_type": "markdown",
   "id": "d8309fce",
   "metadata": {},
   "source": [
    "FUNCTIONS IN PYTHON"
   ]
  },
  {
   "cell_type": "markdown",
   "id": "6d576e08",
   "metadata": {},
   "source": [
    "get list of parameters name from a function in Python"
   ]
  },
  {
   "cell_type": "code",
   "execution_count": 36,
   "id": "985ec5a9",
   "metadata": {},
   "outputs": [
    {
     "name": "stdout",
     "output_type": "stream",
     "text": [
      "(arg1, arg2)\n"
     ]
    }
   ],
   "source": [
    "def happy(arg1, arg2):\n",
    "    return arg1**arg2\n",
    "  \n",
    "# import required modules\n",
    "import inspect \n",
    "  \n",
    "# use signature() \n",
    "print(inspect.signature(happy)) "
   ]
  },
  {
   "cell_type": "markdown",
   "id": "96ceed58",
   "metadata": {},
   "source": [
    "printing multiple aruguments in python"
   ]
  },
  {
   "cell_type": "code",
   "execution_count": 34,
   "id": "a6850524",
   "metadata": {},
   "outputs": [
    {
     "name": "stdout",
     "output_type": "stream",
     "text": [
      "Hello from python, 27\n",
      "Hello from python, 26\n"
     ]
    }
   ],
   "source": [
    "def sample(name, num=\"27\"):\n",
    "    print(\"Hello from\", name + ', ' + num)\n",
    "  \n",
    "  \n",
    "sample(\"python\")\n",
    "sample(\"python\", \"26\")"
   ]
  },
  {
   "cell_type": "code",
   "execution_count": null,
   "id": "350ce56b",
   "metadata": {},
   "outputs": [],
   "source": []
  }
 ],
 "metadata": {
  "kernelspec": {
   "display_name": "Python 3 (ipykernel)",
   "language": "python",
   "name": "python3"
  },
  "language_info": {
   "codemirror_mode": {
    "name": "ipython",
    "version": 3
   },
   "file_extension": ".py",
   "mimetype": "text/x-python",
   "name": "python",
   "nbconvert_exporter": "python",
   "pygments_lexer": "ipython3",
   "version": "3.9.12"
  }
 },
 "nbformat": 4,
 "nbformat_minor": 5
}
